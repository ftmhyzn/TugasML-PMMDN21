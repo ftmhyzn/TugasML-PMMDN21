{
 "cells": [
  {
   "cell_type": "code",
   "execution_count": 1,
   "metadata": {},
   "outputs": [],
   "source": [
    "import numpy as np\n",
    "import pandas as pd\n",
    "import matplotlib.pyplot as plt"
   ]
  },
  {
   "cell_type": "code",
   "execution_count": 11,
   "metadata": {},
   "outputs": [],
   "source": [
    "data = pd.read_excel('D:/PTA 2016-2017/sistem cerdas/spada/Pertemuan_5/Studi Kasus.xls')"
   ]
  },
  {
   "cell_type": "code",
   "execution_count": 12,
   "metadata": {},
   "outputs": [
    {
     "data": {
      "text/html": [
       "<div>\n",
       "<style scoped>\n",
       "    .dataframe tbody tr th:only-of-type {\n",
       "        vertical-align: middle;\n",
       "    }\n",
       "\n",
       "    .dataframe tbody tr th {\n",
       "        vertical-align: top;\n",
       "    }\n",
       "\n",
       "    .dataframe thead th {\n",
       "        text-align: right;\n",
       "    }\n",
       "</style>\n",
       "<table border=\"1\" class=\"dataframe\">\n",
       "  <thead>\n",
       "    <tr style=\"text-align: right;\">\n",
       "      <th></th>\n",
       "      <th>Kejadian</th>\n",
       "      <th>Cuaca</th>\n",
       "      <th>Temperatur</th>\n",
       "      <th>Kelembaban</th>\n",
       "      <th>Berangin</th>\n",
       "      <th>Bermain</th>\n",
       "    </tr>\n",
       "  </thead>\n",
       "  <tbody>\n",
       "    <tr>\n",
       "      <th>0</th>\n",
       "      <td>K1</td>\n",
       "      <td>Berawan</td>\n",
       "      <td>Panas</td>\n",
       "      <td>Tinggi</td>\n",
       "      <td>Tidak</td>\n",
       "      <td>Ya</td>\n",
       "    </tr>\n",
       "    <tr>\n",
       "      <th>1</th>\n",
       "      <td>K2</td>\n",
       "      <td>Berawan</td>\n",
       "      <td>Dingin</td>\n",
       "      <td>Normal</td>\n",
       "      <td>Ya</td>\n",
       "      <td>Ya</td>\n",
       "    </tr>\n",
       "    <tr>\n",
       "      <th>2</th>\n",
       "      <td>K3</td>\n",
       "      <td>Berawan</td>\n",
       "      <td>Hangat</td>\n",
       "      <td>Tinggi</td>\n",
       "      <td>Ya</td>\n",
       "      <td>Ya</td>\n",
       "    </tr>\n",
       "    <tr>\n",
       "      <th>3</th>\n",
       "      <td>K4</td>\n",
       "      <td>Berawan</td>\n",
       "      <td>Panas</td>\n",
       "      <td>Normal</td>\n",
       "      <td>Tidak</td>\n",
       "      <td>Ya</td>\n",
       "    </tr>\n",
       "    <tr>\n",
       "      <th>4</th>\n",
       "      <td>K5</td>\n",
       "      <td>Hujan</td>\n",
       "      <td>Hangat</td>\n",
       "      <td>Tinggi</td>\n",
       "      <td>Tidak</td>\n",
       "      <td>Ya</td>\n",
       "    </tr>\n",
       "    <tr>\n",
       "      <th>5</th>\n",
       "      <td>K6</td>\n",
       "      <td>Hujan</td>\n",
       "      <td>Dingin</td>\n",
       "      <td>Normal</td>\n",
       "      <td>Tidak</td>\n",
       "      <td>Ya</td>\n",
       "    </tr>\n",
       "    <tr>\n",
       "      <th>6</th>\n",
       "      <td>K7</td>\n",
       "      <td>Hujan</td>\n",
       "      <td>Dingin</td>\n",
       "      <td>Normal</td>\n",
       "      <td>Ya</td>\n",
       "      <td>Tidak</td>\n",
       "    </tr>\n",
       "    <tr>\n",
       "      <th>7</th>\n",
       "      <td>K8</td>\n",
       "      <td>Hujan</td>\n",
       "      <td>Hangat</td>\n",
       "      <td>Normal</td>\n",
       "      <td>Tidak</td>\n",
       "      <td>Ya</td>\n",
       "    </tr>\n",
       "    <tr>\n",
       "      <th>8</th>\n",
       "      <td>K9</td>\n",
       "      <td>Hujan</td>\n",
       "      <td>Hangat</td>\n",
       "      <td>Tinggi</td>\n",
       "      <td>Ya</td>\n",
       "      <td>Tidak</td>\n",
       "    </tr>\n",
       "    <tr>\n",
       "      <th>9</th>\n",
       "      <td>K10</td>\n",
       "      <td>Cerah</td>\n",
       "      <td>Panas</td>\n",
       "      <td>Tinggi</td>\n",
       "      <td>Tidak</td>\n",
       "      <td>Tidak</td>\n",
       "    </tr>\n",
       "    <tr>\n",
       "      <th>10</th>\n",
       "      <td>K11</td>\n",
       "      <td>Cerah</td>\n",
       "      <td>Panas</td>\n",
       "      <td>Tinggi</td>\n",
       "      <td>Ya</td>\n",
       "      <td>Tidak</td>\n",
       "    </tr>\n",
       "    <tr>\n",
       "      <th>11</th>\n",
       "      <td>K12</td>\n",
       "      <td>Cerah</td>\n",
       "      <td>Hangat</td>\n",
       "      <td>Tinggi</td>\n",
       "      <td>Tidak</td>\n",
       "      <td>Tidak</td>\n",
       "    </tr>\n",
       "    <tr>\n",
       "      <th>12</th>\n",
       "      <td>K13</td>\n",
       "      <td>Cerah</td>\n",
       "      <td>Dingin</td>\n",
       "      <td>Normal</td>\n",
       "      <td>Tidak</td>\n",
       "      <td>Ya</td>\n",
       "    </tr>\n",
       "    <tr>\n",
       "      <th>13</th>\n",
       "      <td>K14</td>\n",
       "      <td>Cerah</td>\n",
       "      <td>Hangat</td>\n",
       "      <td>Normal</td>\n",
       "      <td>Ya</td>\n",
       "      <td>Ya</td>\n",
       "    </tr>\n",
       "  </tbody>\n",
       "</table>\n",
       "</div>"
      ],
      "text/plain": [
       "   Kejadian    Cuaca Temperatur Kelembaban Berangin Bermain\n",
       "0        K1  Berawan      Panas     Tinggi    Tidak      Ya\n",
       "1        K2  Berawan     Dingin     Normal       Ya      Ya\n",
       "2        K3  Berawan     Hangat     Tinggi       Ya      Ya\n",
       "3        K4  Berawan      Panas     Normal    Tidak      Ya\n",
       "4        K5    Hujan     Hangat     Tinggi    Tidak      Ya\n",
       "5        K6    Hujan     Dingin     Normal    Tidak      Ya\n",
       "6        K7    Hujan     Dingin     Normal       Ya   Tidak\n",
       "7        K8    Hujan     Hangat     Normal    Tidak      Ya\n",
       "8        K9    Hujan     Hangat     Tinggi       Ya   Tidak\n",
       "9       K10    Cerah      Panas     Tinggi    Tidak   Tidak\n",
       "10      K11    Cerah      Panas     Tinggi       Ya   Tidak\n",
       "11      K12    Cerah     Hangat     Tinggi    Tidak   Tidak\n",
       "12      K13    Cerah     Dingin     Normal    Tidak      Ya\n",
       "13      K14    Cerah     Hangat     Normal       Ya      Ya"
      ]
     },
     "execution_count": 12,
     "metadata": {},
     "output_type": "execute_result"
    }
   ],
   "source": [
    "data"
   ]
  },
  {
   "cell_type": "code",
   "execution_count": 13,
   "metadata": {},
   "outputs": [
    {
     "data": {
      "text/plain": [
       "(14, 6)"
      ]
     },
     "execution_count": 13,
     "metadata": {},
     "output_type": "execute_result"
    }
   ],
   "source": [
    "data.shape"
   ]
  },
  {
   "cell_type": "code",
   "execution_count": 9,
   "metadata": {},
   "outputs": [
    {
     "data": {
      "text/plain": [
       "Ya       9\n",
       "Tidak    5\n",
       "Name: Bermain, dtype: int64"
      ]
     },
     "execution_count": 9,
     "metadata": {},
     "output_type": "execute_result"
    }
   ],
   "source": [
    "data['Bermain'].value_counts()"
   ]
  },
  {
   "cell_type": "code",
   "execution_count": 10,
   "metadata": {},
   "outputs": [
    {
     "name": "stdout",
     "output_type": "stream",
     "text": [
      "0.6\n"
     ]
    }
   ],
   "source": [
    "PYes = 9/15\n",
    "print(PYes)"
   ]
  },
  {
   "cell_type": "code",
   "execution_count": 14,
   "metadata": {},
   "outputs": [],
   "source": [
    "#Probablitas orang yang bermain Tenis dibanding dengan Cuaca Berawan\n",
    "#P(A) PYes\n",
    "#P(B) PCuaca_Berawan"
   ]
  },
  {
   "cell_type": "code",
   "execution_count": 15,
   "metadata": {},
   "outputs": [
    {
     "data": {
      "text/plain": [
       "Hujan      5\n",
       "Cerah      5\n",
       "Berawan    4\n",
       "Name: Cuaca, dtype: int64"
      ]
     },
     "execution_count": 15,
     "metadata": {},
     "output_type": "execute_result"
    }
   ],
   "source": [
    "data['Cuaca'].value_counts()"
   ]
  },
  {
   "cell_type": "code",
   "execution_count": 16,
   "metadata": {},
   "outputs": [
    {
     "data": {
      "text/html": [
       "<div>\n",
       "<style scoped>\n",
       "    .dataframe tbody tr th:only-of-type {\n",
       "        vertical-align: middle;\n",
       "    }\n",
       "\n",
       "    .dataframe tbody tr th {\n",
       "        vertical-align: top;\n",
       "    }\n",
       "\n",
       "    .dataframe thead th {\n",
       "        text-align: right;\n",
       "    }\n",
       "</style>\n",
       "<table border=\"1\" class=\"dataframe\">\n",
       "  <thead>\n",
       "    <tr style=\"text-align: right;\">\n",
       "      <th>Bermain</th>\n",
       "      <th>Tidak</th>\n",
       "      <th>Ya</th>\n",
       "    </tr>\n",
       "    <tr>\n",
       "      <th>Cuaca</th>\n",
       "      <th></th>\n",
       "      <th></th>\n",
       "    </tr>\n",
       "  </thead>\n",
       "  <tbody>\n",
       "    <tr>\n",
       "      <th>Berawan</th>\n",
       "      <td>0</td>\n",
       "      <td>4</td>\n",
       "    </tr>\n",
       "    <tr>\n",
       "      <th>Cerah</th>\n",
       "      <td>3</td>\n",
       "      <td>2</td>\n",
       "    </tr>\n",
       "    <tr>\n",
       "      <th>Hujan</th>\n",
       "      <td>2</td>\n",
       "      <td>3</td>\n",
       "    </tr>\n",
       "  </tbody>\n",
       "</table>\n",
       "</div>"
      ],
      "text/plain": [
       "Bermain  Tidak  Ya\n",
       "Cuaca             \n",
       "Berawan      0   4\n",
       "Cerah        3   2\n",
       "Hujan        2   3"
      ]
     },
     "execution_count": 16,
     "metadata": {},
     "output_type": "execute_result"
    }
   ],
   "source": [
    "pd.crosstab(data['Cuaca'], data['Bermain'])"
   ]
  },
  {
   "cell_type": "code",
   "execution_count": 17,
   "metadata": {},
   "outputs": [],
   "source": [
    "#P(A|B) ? \n",
    "#P(A) = Bermain Yes\n",
    "#P(B) = Cuaca_Berawan\n",
    "#P(B|A) = Pcuaca_berawan|PYes"
   ]
  },
  {
   "cell_type": "code",
   "execution_count": 18,
   "metadata": {},
   "outputs": [
    {
     "name": "stdout",
     "output_type": "stream",
     "text": [
      "0.4444444444444444\n"
     ]
    }
   ],
   "source": [
    "PCuaca_Berawan = 4/9\n",
    "print(PCuaca_Berawan)"
   ]
  },
  {
   "cell_type": "code",
   "execution_count": 20,
   "metadata": {},
   "outputs": [
    {
     "name": "stdout",
     "output_type": "stream",
     "text": [
      "0.0\n"
     ]
    }
   ],
   "source": [
    "PCuaca_BerawanTidak = 0/4\n",
    "print(PCuaca_BerawanTidak)"
   ]
  },
  {
   "cell_type": "code",
   "execution_count": 21,
   "metadata": {},
   "outputs": [
    {
     "name": "stdout",
     "output_type": "stream",
     "text": [
      "1.0\n"
     ]
    }
   ],
   "source": [
    "PCuaca_BerawanYes = 4/4\n",
    "print(PCuaca_BerawanYes)"
   ]
  },
  {
   "cell_type": "code",
   "execution_count": 22,
   "metadata": {},
   "outputs": [],
   "source": [
    "PCuaca = 5/9"
   ]
  },
  {
   "cell_type": "code",
   "execution_count": 23,
   "metadata": {},
   "outputs": [
    {
     "name": "stdout",
     "output_type": "stream",
     "text": [
      "1.0799999999999998\n"
     ]
    }
   ],
   "source": [
    "PCuacaBerawan = (PCuaca_BerawanYes*PYes)/PCuaca\n",
    "print(PCuacaBerawan)"
   ]
  },
  {
   "cell_type": "code",
   "execution_count": null,
   "metadata": {},
   "outputs": [],
   "source": []
  }
 ],
 "metadata": {
  "kernelspec": {
   "display_name": "Python 3",
   "language": "python",
   "name": "python3"
  },
  "language_info": {
   "codemirror_mode": {
    "name": "ipython",
    "version": 3
   },
   "file_extension": ".py",
   "mimetype": "text/x-python",
   "name": "python",
   "nbconvert_exporter": "python",
   "pygments_lexer": "ipython3",
   "version": "3.7.9"
  }
 },
 "nbformat": 4,
 "nbformat_minor": 5
}
